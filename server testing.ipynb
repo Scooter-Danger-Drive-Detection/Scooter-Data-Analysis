{
 "cells": [
  {
   "cell_type": "code",
   "execution_count": 46,
   "metadata": {},
   "outputs": [],
   "source": [
    "from transformations import *"
   ]
  },
  {
   "cell_type": "code",
   "execution_count": 47,
   "metadata": {},
   "outputs": [],
   "source": [
    "url = r\"http://158.160.79.188:8000/GetAll\"\n",
    "\n",
    "frames_by_id, sessions_by_id = load_frames_by_url(url)"
   ]
  },
  {
   "cell_type": "code",
   "execution_count": 70,
   "metadata": {},
   "outputs": [
    {
     "name": "stdout",
     "output_type": "stream",
     "text": [
      "2893\t0\t0.0\n",
      "1\t0\t1.0\n",
      "1\t0\t1.0\n",
      "1\t0\t1.0\n",
      "1\t0\t1.0\n",
      "1\t0\t1.0\n",
      "1\t0\t1.0\n",
      "1\t0\t1.0\n",
      "4498\t0\t0.06666666666666667\n",
      "2644\t0\t0.18518518518518517\n",
      "44\t3\t1.0\n",
      "46\t3\t1.0\n",
      "2238\t1\t0.5217391304347826\n",
      "1311\t1\t0.7142857142857143\n",
      "2166\t1\t0.45454545454545453\n",
      "68\t3\t1.0\n",
      "345\t0\t0.0\n",
      "885\t0\t0.0\n"
     ]
    }
   ],
   "source": [
    "import requests\n",
    "import json\n",
    "\n",
    "for session_id in sessions_by_id:\n",
    "    data = sessions_by_id[session_id].to_dict()\n",
    "    result = requests.post(r\"http://158.160.79.188:8000/Predict\", json=data)\n",
    "    print(len(frames_by_id[session_id]), sessions_by_id[session_id].ride_mode.key, float(result.content), sep=\"\\t\")"
   ]
  },
  {
   "cell_type": "code",
   "execution_count": null,
   "metadata": {},
   "outputs": [],
   "source": []
  }
 ],
 "metadata": {
  "kernelspec": {
   "display_name": "Python 3 (ipykernel)",
   "language": "python",
   "name": "python3"
  },
  "language_info": {
   "codemirror_mode": {
    "name": "ipython",
    "version": 3
   },
   "file_extension": ".py",
   "mimetype": "text/x-python",
   "name": "python",
   "nbconvert_exporter": "python",
   "pygments_lexer": "ipython3",
   "version": "3.10.4"
  }
 },
 "nbformat": 4,
 "nbformat_minor": 2
}
