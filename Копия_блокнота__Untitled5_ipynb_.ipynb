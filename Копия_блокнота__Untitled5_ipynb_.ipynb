{
  "nbformat": 4,
  "nbformat_minor": 0,
  "metadata": {
    "colab": {
      "provenance": []
    },
    "kernelspec": {
      "name": "python3",
      "display_name": "Python 3"
    },
    "language_info": {
      "name": "python"
    }
  },
  "cells": [
    {
      "cell_type": "code",
      "execution_count": null,
      "metadata": {
        "id": "sMLfShLoS4De"
      },
      "outputs": [],
      "source": [
        "import requests\n",
        "import pandas as pd\n",
        "import matplotlib.pyplot as plt\n",
        "import json\n",
        "import seaborn as sns\n",
        "\n",
        "r = requests.get('http://158.160.79.188:8000/GetAll')\n",
        "\n",
        "data_raw = json.loads(r.content)['Frames']\n",
        "\n",
        "#f = open('/GetAll.json')\n",
        "#data_raw = json.load(f)[\"Frames\"]\n",
        "\n",
        "\n",
        "def flatten(rec):\n",
        "    new_rec = {}\n",
        "    for key, val in rec.items():\n",
        "        if isinstance(val, dict):\n",
        "            new_rec.update(flatten(rec[key]))\n",
        "        else:\n",
        "            new_rec[key] = val\n",
        "    return new_rec\n",
        "\n",
        "data = pd.DataFrame.from_records(map(flatten, data_raw))\n",
        "\n",
        "data.head()"
      ]
    },
    {
      "cell_type": "code",
      "source": [
        "data['TotalAcceleration'] = (data['AccelerationX'] ** 2 + data['AccelerationY'] ** 2 + data['AccelerationZ'] ** 2) ** 0.5\n",
        "data['TotalAngleSpeed'] = (data['AngleSpeedX']**2 + data['AngleSpeedY']**2 + data['AngleSpeedZ']**2) ** 0.5\n",
        "data['Time'] = data['Time'] - data['Time'][0]"
      ],
      "metadata": {
        "id": "mT72HY6JTMLx"
      },
      "execution_count": null,
      "outputs": []
    },
    {
      "cell_type": "code",
      "source": [
        "def addElevation(file):\n",
        "    chunk_size = 100\n",
        "    step = 5\n",
        "    elev = []\n",
        "    for first_elem in range(0, len(file), chunk_size * step):\n",
        "        locations = '|'.join([f\"{file['Latitude'][row + first_elem]},{file['Longitude'][row + first_elem]}\" for row in range(0, min(chunk_size * step, len(file) - first_elem), step)])\n",
        "        url = f\"https://api.opentopodata.org/v1/mapzen?locations={locations}\"\n",
        "        response = requests.get(url)\n",
        "        result = json.loads(response.text)\n",
        "        for pos in range(0, min(chunk_size * step, len(file) - first_elem)):\n",
        "          prev_pos = pos // step\n",
        "          elev.append(result['results'][prev_pos]['elevation'])\n",
        "\n",
        "    elevation_df = pd.DataFrame([{'Elevation': el} for el in elev])\n",
        "    merged_df = pd.concat([file, elevation_df], axis=1)\n",
        "    merged_df.to_csv('Data.csv', index=False)\n",
        "    file = merged_df\n",
        "    return file"
      ],
      "metadata": {
        "id": "6tcPpD8gTNx8"
      },
      "execution_count": null,
      "outputs": []
    },
    {
      "cell_type": "code",
      "source": [
        "if 'elevation' not in data.columns:\n",
        "    data = addElevation(data)"
      ],
      "metadata": {
        "id": "AreBb_Y_TPRe"
      },
      "execution_count": null,
      "outputs": []
    },
    {
      "cell_type": "code",
      "source": [
        "\n",
        "data.plot('Time', 'Speed', subplots=True)\n",
        "plt.xlim([0.5e6, 8e7])\n",
        "#plt.ylim([0, 1])\n",
        "plt.show()"
      ],
      "metadata": {
        "id": "Faoig0dmTRVU"
      },
      "execution_count": null,
      "outputs": []
    },
    {
      "cell_type": "code",
      "source": [
        "sns.pairplot(data)"
      ],
      "metadata": {
        "id": "PwIlmXkGTSx2"
      },
      "execution_count": null,
      "outputs": []
    }
  ]
}